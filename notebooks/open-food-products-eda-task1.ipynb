{
 "cells": [
  {
   "cell_type": "markdown",
   "metadata": {},
   "source": [
    "# Download Open Food Proudcts Data"
   ]
  },
  {
   "cell_type": "code",
   "execution_count": null,
   "metadata": {},
   "outputs": [],
   "source": [
    "!wget https://static.openfoodfacts.org/data/en.openfoodfacts.org.products.csv.gz \n",
    "!ls "
   ]
  },
  {
   "cell_type": "markdown",
   "metadata": {},
   "source": [
    "#### Import Libraries"
   ]
  },
  {
   "cell_type": "code",
   "execution_count": null,
   "metadata": {},
   "outputs": [],
   "source": [
    "import os\n",
    "import duckdb\n",
    "import pandas as pd\n",
    "import numpy as np\n",
    "from PIL import Image\n",
    "import seaborn as sns\n",
    "from matplotlib import pyplot as plt\n",
    "from io import BytesIO"
   ]
  },
  {
   "cell_type": "markdown",
   "metadata": {},
   "source": [
    "# Load Data into DuckDB"
   ]
  },
  {
   "cell_type": "code",
   "execution_count": null,
   "metadata": {},
   "outputs": [],
   "source": [
    "if not os.path.exists(\"openfoodfacts.duckdb\"):\n",
    "\n",
    "    con = duckdb.connect(\"openfoodfacts.duckdb\")\n",
    "    \n",
    "    # Create a table from the GZIP CSV\n",
    "    con.execute(\"\"\"\n",
    "        CREATE OR REPLACE TABLE products AS\n",
    "        SELECT *\n",
    "        FROM read_csv_auto(\n",
    "            'en.openfoodfacts.org.products.csv.gz',\n",
    "            delim='\\t',\n",
    "            header=True\n",
    "        );\n",
    "        \"\"\")"
   ]
  },
  {
   "cell_type": "markdown",
   "metadata": {},
   "source": [
    "# Check **products** table, Number of Columns and few column names"
   ]
  },
  {
   "cell_type": "code",
   "execution_count": null,
   "metadata": {},
   "outputs": [],
   "source": [
    "# list tables\n",
    "con = duckdb.connect(\"openfoodfacts.duckdb\")\n",
    "tables = con.execute(\"PRAGMA show_tables;\").fetchdf()\n",
    "print(tables)\n",
    "\n",
    "# get all column names\n",
    "columns = con.execute(\"PRAGMA table_info('products');\").fetchdf()\n",
    "print(\"Total Columns:\", len(columns))\n",
    "columns[:10]"
   ]
  },
  {
   "cell_type": "code",
   "execution_count": null,
   "metadata": {},
   "outputs": [],
   "source": [
    "for col in columns['name']:\n",
    "    print(col)"
   ]
  },
  {
   "cell_type": "markdown",
   "metadata": {},
   "source": [
    "# View sample products data"
   ]
  },
  {
   "cell_type": "code",
   "execution_count": null,
   "metadata": {},
   "outputs": [],
   "source": [
    "sample_food_products_df = con.execute(\"SELECT * from products LIMIT 5\").df()\n",
    "sample_food_products_df.head()"
   ]
  },
  {
   "cell_type": "code",
   "execution_count": null,
   "metadata": {},
   "outputs": [],
   "source": [
    "for key, value in sample_food_products_df.loc[1].items():\n",
    "    if not pd.isna(value):\n",
    "        print(key, \"=\", value)"
   ]
  },
  {
   "cell_type": "markdown",
   "metadata": {},
   "source": [
    "## Completeness Score"
   ]
  },
  {
   "cell_type": "code",
   "execution_count": null,
   "metadata": {},
   "outputs": [],
   "source": [
    "completeness_info = con.execute(\"SELECT completeness from products\").df()\n",
    "completeness_info.head()"
   ]
  },
  {
   "cell_type": "code",
   "execution_count": null,
   "metadata": {},
   "outputs": [],
   "source": [
    "plt.figure(figsize=(8, 4))\n",
    "sns.histplot(completeness_info[\"completeness\"].dropna(), bins=30, kde=True)\n",
    "plt.title(\"Distribution of Product Completeness Scores\")\n",
    "plt.xlabel(\"Completeness (0 = low info, 1 = full info)\")\n",
    "plt.ylabel(\"Number of Products\")\n",
    "plt.show()"
   ]
  },
  {
   "cell_type": "markdown",
   "metadata": {},
   "source": [
    "* There is peak between 0.3 and 0.5, almost half of the products from overall products are 30% to 50% complete with information.\n",
    "* Less than 200k products are available with 80% complete information."
   ]
  },
  {
   "cell_type": "markdown",
   "metadata": {},
   "source": [
    "## Get all Nutritional Facts Columns"
   ]
  },
  {
   "cell_type": "code",
   "execution_count": null,
   "metadata": {},
   "outputs": [],
   "source": [
    "nutri_cols = [c for c in columns['name'] if '_100g' in c or 'nutrition' in c]\n",
    "print(\"Total Nutritional Columns:\", len(nutri_cols))\n",
    "nutri_cols[:10]"
   ]
  },
  {
   "cell_type": "code",
   "execution_count": null,
   "metadata": {},
   "outputs": [],
   "source": [
    "# Select only product info + nutrition columns\n",
    "con.execute(f\"\"\"CREATE OR REPLACE VIEW nutrition\n",
    "               AS SELECT code, product_name, quantity, product_quantity, brands_en, countries_en, categories_en, serving_size, serving_quantity,\n",
    "               nutriscore_score, nutriscore_grade, food_groups_en, nutrient_levels_tags, image_url\n",
    "              {','.join(f'\"{col}\"' for col in nutri_cols)} FROM products WHERE energy_100g IS NOT NULL\n",
    "              \"\"\")"
   ]
  },
  {
   "cell_type": "code",
   "execution_count": null,
   "metadata": {},
   "outputs": [],
   "source": [
    "# total number of rows\n",
    "import humanize\n",
    "c = con.execute(\"SELECT count(*) as count from products\").fetchdf()\n",
    "print(\"Total Number of Rows in Products tables:\", humanize.intword(c.loc[0, 'count']))\n",
    "\n",
    "\n",
    "c = con.execute(\"SELECT count(*) as count from nutrition\").fetchdf()\n",
    "print(\"Total Number of Rows in Nutrition:\", humanize.intword(c.loc[0, 'count']))"
   ]
  },
  {
   "cell_type": "markdown",
   "metadata": {},
   "source": [
    "# View Sample Data of Nutritional Food Products"
   ]
  },
  {
   "cell_type": "code",
   "execution_count": null,
   "metadata": {},
   "outputs": [],
   "source": [
    "sample_df = con.execute(\"SELECT * from nutrition LIMIT 5\").df()\n",
    "sample_df.head()"
   ]
  },
  {
   "cell_type": "code",
   "execution_count": null,
   "metadata": {},
   "outputs": [],
   "source": [
    "for key, value in sample_df.loc[3].items():\n",
    "    if not pd.isna(value):\n",
    "        print(key, \"=\", value)"
   ]
  },
  {
   "cell_type": "markdown",
   "metadata": {},
   "source": [
    "* It may be possible that some food products may not have image associated that shows nutritional info, we can ignore such products for modeling, as images are required in Task 2.\n",
    "  "
   ]
  },
  {
   "cell_type": "markdown",
   "metadata": {},
   "source": [
    "## Get all nutritional food prodcuts for which image_nutrition_url is present"
   ]
  },
  {
   "cell_type": "code",
   "execution_count": null,
   "metadata": {},
   "outputs": [],
   "source": [
    "nutrition_df = con.execute(\"SELECT * from nutrition where image_nutrition_url is not NULL and nutriscore_score is not NULL\").df()\n",
    "print(nutrition_df.shape)\n",
    "nutrition_df.head()"
   ]
  },
  {
   "cell_type": "markdown",
   "metadata": {},
   "source": [
    "## Investigate total number product categories and its distribution"
   ]
  },
  {
   "cell_type": "code",
   "execution_count": null,
   "metadata": {},
   "outputs": [],
   "source": [
    "from collections import defaultdict\n",
    "\n",
    "unique_product_categories = defaultdict(int)\n",
    "\n",
    "for categories in nutrition_df[\"categories_en\"]:\n",
    "    if pd.isna(categories):\n",
    "        unique_product_categories[\"no_product_category\"] += 1\n",
    "    else:\n",
    "        for c in categories.split(\",\"):\n",
    "            unique_product_categories[c] += 1\n",
    "\n",
    "print(\"Total Product Categories:\", len(unique_product_categories))"
   ]
  },
  {
   "cell_type": "code",
   "execution_count": null,
   "metadata": {},
   "outputs": [],
   "source": [
    "product_category_df = pd.DataFrame({'product_category': unique_product_categories.keys(), \n",
    "                                    'frequency': unique_product_categories.values()})\n",
    "\n",
    "product_category_df"
   ]
  },
  {
   "cell_type": "code",
   "execution_count": null,
   "metadata": {},
   "outputs": [],
   "source": [
    "# check data distribution\n",
    "product_category_df[\"frequency\"].describe(percentiles=[0.5, 0.9, 0.99])"
   ]
  },
  {
   "cell_type": "markdown",
   "metadata": {},
   "source": [
    "* Mean = 96.2 average number of products per category\n",
    "* Std = 2353.37 extremely high — distribution heavy right tail\n",
    "* 50% (Median) percentile = half the categories have only 1 product\n",
    "* 90% percentile = 90% of categories have ≤ 15 products\n",
    "* 99% percentile = only top 1% categories exceed 872 products"
   ]
  },
  {
   "cell_type": "markdown",
   "metadata": {},
   "source": [
    "## Top N - bar plot"
   ]
  },
  {
   "cell_type": "code",
   "execution_count": null,
   "metadata": {},
   "outputs": [],
   "source": [
    "top_n = 30\n",
    "df_sorted = product_category_df.sort_values(by=\"frequency\", ascending=False)\n",
    "\n",
    "top_df = df_sorted.head(top_n)\n",
    "\n",
    "plt.figure(figsize=(10, 8))\n",
    "sns.barplot(data=top_df, y=\"product_category\", x=\"frequency\", palette=\"viridis\")\n",
    "plt.title(f\"Top {top_n} Product Categories by Frequency\")\n",
    "plt.xlabel(\"Number of Products\")\n",
    "plt.ylabel(\"Category\")\n",
    "plt.show()\n"
   ]
  },
  {
   "cell_type": "markdown",
   "metadata": {},
   "source": [
    "* Over 500k food products belong to Plant-based foods and beverages category"
   ]
  },
  {
   "cell_type": "markdown",
   "metadata": {},
   "source": [
    "# Cumulative Food product distribution by Product category"
   ]
  },
  {
   "cell_type": "code",
   "execution_count": null,
   "metadata": {},
   "outputs": [],
   "source": [
    "df_sorted = product_category_df.sort_values(\"frequency\", ascending=False)\n",
    "df_sorted[\"cum_percent\"] = df_sorted[\"frequency\"].cumsum() / df_sorted[\"frequency\"].sum() * 100\n",
    "\n",
    "plt.figure(figsize=(8, 5))\n",
    "plt.plot(df_sorted[\"cum_percent\"], color=\"blue\")\n",
    "plt.axhline(80, color=\"red\", linestyle=\"--\", label=\"80% coverage\")\n",
    "plt.title(\"Cumulative Product Coverage by Category\")\n",
    "plt.xlabel(\"Number of Categories (sorted by frequency)\")\n",
    "plt.ylabel(\"Cumulative % of Products\")\n",
    "plt.legend()\n",
    "plt.show()\n",
    "\n",
    "# how many categories cover 80% of products\n",
    "n_80 = (df_sorted[\"cum_percent\"] <= 80).sum()\n",
    "print(f\"→ {n_80:,} categories (~{n_80 / len(df_sorted):.2%}) cover 80% of all products.\")\n"
   ]
  },
  {
   "cell_type": "code",
   "execution_count": null,
   "metadata": {},
   "outputs": [],
   "source": [
    "product_category_df.to_csv(\"product_categories.csv\", index=False)"
   ]
  },
  {
   "cell_type": "markdown",
   "metadata": {},
   "source": [
    "# Check Sample data for Particular Product"
   ]
  },
  {
   "cell_type": "code",
   "execution_count": null,
   "metadata": {},
   "outputs": [],
   "source": [
    "nutrition_df['product_name'].value_counts()"
   ]
  },
  {
   "cell_type": "code",
   "execution_count": null,
   "metadata": {},
   "outputs": [],
   "source": [
    "spaghetti_df = nutrition_df[nutrition_df['product_name'] == 'Spaghetti']\n",
    "print(spaghetti_df.shape)\n",
    "spaghetti_df.head()"
   ]
  },
  {
   "cell_type": "code",
   "execution_count": null,
   "metadata": {},
   "outputs": [],
   "source": [
    "for key, value in spaghetti_df.loc[979].items():\n",
    "    if not pd.isna(value):\n",
    "        print(key, \"=\", value)"
   ]
  },
  {
   "cell_type": "code",
   "execution_count": null,
   "metadata": {},
   "outputs": [],
   "source": [
    "import httpx\n",
    "def get_image_by_url(image_url: str, timeout_sec: int = 120) -> Image:\n",
    "    with httpx.Client() as client:\n",
    "        response = client.get(image_url, timeout=timeout_sec)\n",
    "        return Image.open(BytesIO(response.content))"
   ]
  },
  {
   "cell_type": "markdown",
   "metadata": {},
   "source": [
    "#### Front Image"
   ]
  },
  {
   "cell_type": "code",
   "execution_count": null,
   "metadata": {},
   "outputs": [],
   "source": [
    " get_image_by_url(\"https://images.openfoodfacts.org/images/products/000/000/003/2155/front_en.3.400.jpg\")"
   ]
  },
  {
   "cell_type": "markdown",
   "metadata": {},
   "source": [
    "#### Nutritional Info Image"
   ]
  },
  {
   "cell_type": "code",
   "execution_count": null,
   "metadata": {},
   "outputs": [],
   "source": [
    "get_image_by_url(\"https://images.openfoodfacts.org/images/products/000/000/003/2155/nutrition_en.14.400.jpg\")"
   ]
  },
  {
   "cell_type": "markdown",
   "metadata": {},
   "source": [
    "### NutriScore \n",
    "\n",
    "* **Wiki** - https://en.wikipedia.org/wiki/Nutri-Score#Overview_of_algorithm\n",
    "* **pypi** **package** - https://pypi.org/project/pyNutriScore/\n",
    "  * helps to calculate both score and class for given nutritional fact data"
   ]
  },
  {
   "cell_type": "code",
   "execution_count": null,
   "metadata": {},
   "outputs": [],
   "source": [
    "!pip install pyNutriScore"
   ]
  },
  {
   "cell_type": "code",
   "execution_count": null,
   "metadata": {},
   "outputs": [],
   "source": [
    "from pyNutriScore import NutriScore\n",
    "\n",
    "nutrifacts_data = {\n",
    "        'energy': 1494.0,\n",
    "        'fibers': 5.3571428571429,\n",
    "        'fruit_percentage': 0,\n",
    "        'proteins': 12.5,\n",
    "        'saturated_fats': 0,\n",
    "        'unsaturated_fats': 1.785,\n",
    "        'sodium': 0,\n",
    "        'sugar': 1.785,\n",
    "        'carbohydrates': 75,\n",
    "    }\n",
    "food_type = 'solid'  # either 'solid' or 'beverage'\n",
    "\n",
    "nutri_score, nutri_class = NutriScore().calculate(nutrifacts_data, food_type), NutriScore().calculate_class(nutrifacts_data, food_type)\n",
    "\n",
    "print(nutri_score, nutri_class)"
   ]
  },
  {
   "cell_type": "markdown",
   "metadata": {},
   "source": [
    "## Nutritional Facts Columns"
   ]
  },
  {
   "cell_type": "code",
   "execution_count": null,
   "metadata": {},
   "outputs": [],
   "source": [
    "nutri_cols = [col for col in nutri_cols if col.endswith(\"_100g\")]\n",
    "len(nutri_cols), nutri_cols[:10]"
   ]
  },
  {
   "cell_type": "markdown",
   "metadata": {},
   "source": [
    "## Check Completeness of Each Nutrient"
   ]
  },
  {
   "cell_type": "code",
   "execution_count": null,
   "metadata": {},
   "outputs": [],
   "source": [
    "completeness = nutrition_df[nutri_cols].notna().sum().sort_values(ascending=False)\n",
    "\n",
    "completeness_percent = completeness / len(nutrition_df) * 100\n",
    "\n",
    "completeness_df = pd.DataFrame({\n",
    "    \"nutrient\": completeness.index,\n",
    "    \"count\": completeness.values,\n",
    "    \"percent\": completeness_percent.values\n",
    "})\n",
    "\n",
    "# Top 30 nutrients by availability\n",
    "top_df = completeness_df.head(30)\n",
    "\n",
    "plt.figure(figsize=(10, 8))\n",
    "sns.barplot(data=top_df, y=\"nutrient\", x=\"percent\", palette=\"crest\")\n",
    "plt.title(\"Top 30 Most Available Nutrients (% of Products)\")\n",
    "plt.xlabel(\"Completeness (%)\")\n",
    "plt.ylabel(\"Nutrient\")\n",
    "plt.show()"
   ]
  },
  {
   "cell_type": "markdown",
   "metadata": {},
   "source": [
    "* Nutrients like energy_100g, fat_100g, carbohydrates_100g, sugars_100g, and proteins_100g have >90% coverage.\n",
    "\n",
    "* Nutrients like calcium_100g, iron_100g, cholestrol_100g, trans-fat_100g and others have <10% coverage."
   ]
  },
  {
   "cell_type": "markdown",
   "metadata": {},
   "source": [
    "## Dominant Nutrients"
   ]
  },
  {
   "cell_type": "code",
   "execution_count": null,
   "metadata": {},
   "outputs": [],
   "source": [
    "dominant = completeness_df[completeness_df[\"percent\"] >= 20]\n",
    "print(f\"Dominant nutrients (≥20% completeness): {len(dominant)}\")\n",
    "dominant.head(10)"
   ]
  },
  {
   "cell_type": "markdown",
   "metadata": {},
   "source": [
    "* These are the nutrients worth analyzing further for distribution and correlation."
   ]
  },
  {
   "cell_type": "markdown",
   "metadata": {},
   "source": [
    "# Data Distribution of Key Nutrients"
   ]
  },
  {
   "cell_type": "code",
   "execution_count": null,
   "metadata": {},
   "outputs": [],
   "source": [
    "key_nutrients = dominant[\"nutrient\"]\n",
    "\n",
    "df_key = nutrition_df[key_nutrients]\n",
    "\n",
    "# Clean up invalid values (negative or extreme outliers)\n",
    "df_key = df_key[(df_key >= 0) & (df_key < df_key.quantile(0.99))]\n",
    "\n",
    "df_key.plot(kind='box', figsize=(25, 15), logy=True)\n",
    "plt.title(\"Boxplot of Major Nutrients per 100g (log scale)\")\n",
    "plt.ylabel(\"Value (g or kcal per 100g)\")\n",
    "plt.xticks(rotation=45) \n",
    "plt.show()\n"
   ]
  },
  {
   "cell_type": "markdown",
   "metadata": {},
   "source": [
    "## Correlation Heatmap among key nutrients"
   ]
  },
  {
   "cell_type": "code",
   "execution_count": null,
   "metadata": {},
   "outputs": [],
   "source": [
    "plt.figure(figsize=(8, 6))\n",
    "corr = df_key.corr()\n",
    "sns.heatmap(corr, annot=True, cmap=\"coolwarm\", fmt=\".2f\")\n",
    "plt.title(\"Correlation Heatmap of Key Nutrients\")\n",
    "plt.show()"
   ]
  },
  {
   "cell_type": "markdown",
   "metadata": {},
   "source": [
    "* energy-kj_100g and energy-kcal_100g highly correlated (~1.0).\n",
    "\n",
    "* fat_100g correlates with energy,\n",
    "\n",
    "* sugars_100g with carbohydrates_100g.\n",
    "\n",
    "* proteins_100g has negative correlation with carbohydrates_100g and sugars_100g."
   ]
  },
  {
   "cell_type": "markdown",
   "metadata": {},
   "source": [
    "## Download Data for OCR Task 2\n",
    "\n",
    "* For OCR Task, we will need to download products images data for all or sample nutritional food products.\n",
    "* We also limit products nutritional info images to English language, otherwise will need multi-lingual OCR model\n",
    "* Downloading images for all 0.8 Million food products would be time-consuming, so we will take the 10k sample products data in a way that:\n",
    "  * maximizes nutrient coverage (so all 126 nutrients appear at least a few times)\n",
    "  * ensures diversity (not just the common ones with full data like energy/fat/protein).\n",
    "  * it helps an OCR model see diverse nutrient layouts (macros, vitamins, acids, etc.)."
   ]
  },
  {
   "cell_type": "code",
   "execution_count": null,
   "metadata": {},
   "outputs": [],
   "source": [
    "nutrition_df['is_image_en_lang'] = nutrition_df[\"image_nutrition_url\"].map(lambda url: 'nutrition_en' in url)\n",
    "nutrition_df['is_image_en_lang'].value_counts()"
   ]
  },
  {
   "cell_type": "code",
   "execution_count": null,
   "metadata": {},
   "outputs": [],
   "source": [
    "nutritions_eng_df = nutrition_df[nutrition_df['is_image_en_lang']]\n",
    "\n",
    "completeness = nutritions_eng_df[nutri_cols].notna().sum().sort_values(ascending=False)\n",
    "\n",
    "completeness_percent = completeness / len(nutrition_df) * 100\n",
    "\n",
    "completeness_df = pd.DataFrame({\n",
    "    \"nutrient\": completeness.index,\n",
    "    \"count\": completeness.values,\n",
    "    \"percent\": completeness_percent.values\n",
    "})\n",
    "completeness_df"
   ]
  },
  {
   "cell_type": "code",
   "execution_count": null,
   "metadata": {},
   "outputs": [],
   "source": [
    "nutritions_eng_df.shape, completeness_df.shape"
   ]
  },
  {
   "cell_type": "code",
   "execution_count": null,
   "metadata": {},
   "outputs": [],
   "source": [
    "SAMPLE_SIZE = 10_000 # 10k food products\n",
    "\n",
    "df = nutritions_eng_df.drop_duplicates(subset='code').reset_index(drop=True)\n",
    "comp = completeness_df.copy()\n",
    "\n",
    "#Identify rare nutrients (bottom 20 or where < 0.1% coverage)\n",
    "rare_nutrients = comp[comp[\"percent\"] < 0.1][\"nutrient\"].tolist()\n",
    "\n",
    "# Find rows where each rare nutrient is available\n",
    "rare_rows = set()\n",
    "for col in rare_nutrients:\n",
    "    rare_rows.update(df[df[col].notna()].index.tolist())\n",
    "\n",
    "rare_df = df.loc[list(rare_rows)]\n",
    "print(f\"Rows with rare nutrients: {len(rare_df)}\")\n",
    "\n",
    "# Compute row completeness across all nutrients\n",
    "df[\"filled_count\"] = df.notna().sum(axis=1)\n",
    "df[\"filled_fraction\"] = df[\"filled_count\"] / df.shape[1]\n",
    "\n",
    "# Sample remaining rows (with high completeness) to reach SAMPLE_SIZE total\n",
    "remaining_needed = max(0, SAMPLE_SIZE - len(rare_df))\n",
    "dense_df = df[df[\"filled_fraction\"] >= 0.3]  # threshold adjustable\n",
    "\n",
    "random_df = dense_df.sample(n=remaining_needed, random_state=42)\n",
    "sample_df = pd.concat([rare_df, random_df]).drop_duplicates().reset_index(drop=True)\n",
    "print(\"Sample Data shape\", sample_df.shape)\n",
    "sample_df.head()"
   ]
  },
  {
   "cell_type": "code",
   "execution_count": null,
   "metadata": {},
   "outputs": [],
   "source": [
    "sample_completeness = sample_df[nutri_cols].notna().sum().sort_values(ascending=False)\n",
    "\n",
    "sample_completeness_percent = completeness / len(nutrition_df) * 100\n",
    "\n",
    "sample_completeness_df = pd.DataFrame({\n",
    "    \"nutrient\": sample_completeness.index,\n",
    "    \"count\": sample_completeness.values,\n",
    "    \"percent\": sample_completeness_percent.values\n",
    "})\n",
    "print(sample_completeness_df.shape)\n",
    "sample_completeness_df"
   ]
  },
  {
   "cell_type": "code",
   "execution_count": null,
   "metadata": {},
   "outputs": [],
   "source": [
    "sample_df.to_csv(\"sample_products.csv\", index=False)"
   ]
  },
  {
   "cell_type": "code",
   "execution_count": null,
   "metadata": {},
   "outputs": [],
   "source": [
    "for key, value in sample_df.loc[0].items():\n",
    "    if not pd.isna(value):\n",
    "        print(key, \"=\", value)"
   ]
  },
  {
   "cell_type": "markdown",
   "metadata": {},
   "source": [
    "## Data Download Using multi-processing"
   ]
  },
  {
   "cell_type": "code",
   "execution_count": null,
   "metadata": {},
   "outputs": [],
   "source": [
    "from tenacity import retry, wait_fixed, stop_after_attempt\n",
    "\n",
    "DATA_DIR = \"products_images\"\n",
    "\n",
    "os.makedirs(DATA_DIR, exist_ok=True)\n",
    "\n",
    "@retry(wait=wait_fixed(2), stop=stop_after_attempt(5))\n",
    "def download_and_save(row: pd.Series):\n",
    "    product_code = row['code']\n",
    "    image_url = row['image_nutrition_url']\n",
    "\n",
    "    if 'invalid' in image_url:\n",
    "        image_url = image_url.replace('invalid', product_code)\n",
    "    \n",
    "    image_path = f\"{DATA_DIR}/{product_code}.png\"\n",
    "    if not os.path.exists(image_path):\n",
    "        try:\n",
    "            image = get_image_by_url(image_url)\n",
    "            image.save(image_path)\n",
    "        except Exception as e:\n",
    "            print(\"Failed to download image for url:\", image_url)\n",
    "            raise e"
   ]
  },
  {
   "cell_type": "code",
   "execution_count": null,
   "metadata": {},
   "outputs": [],
   "source": [
    "from multiprocessing import Pool\n",
    "from tqdm import tqdm\n",
    "\n",
    "NUM_WORKERS = 12\n",
    "\n",
    "with Pool(processes=NUM_WORKERS) as pool:\n",
    "    list(\n",
    "            tqdm(\n",
    "                pool.imap(download_and_save, [row for _, row in sample_df[['code', 'image_nutrition_url']].iterrows()]),\n",
    "                total=len(sample_df),\n",
    "                dynamic_ncols=True,\n",
    "            )\n",
    "        )"
   ]
  },
  {
   "cell_type": "code",
   "execution_count": null,
   "metadata": {},
   "outputs": [],
   "source": [
    "!ls"
   ]
  },
  {
   "cell_type": "code",
   "execution_count": null,
   "metadata": {},
   "outputs": [],
   "source": []
  }
 ],
 "metadata": {
  "kaggle": {
   "accelerator": "none",
   "dataSources": [],
   "dockerImageVersionId": 31153,
   "isGpuEnabled": false,
   "isInternetEnabled": true,
   "language": "python",
   "sourceType": "notebook"
  },
  "kernelspec": {
   "display_name": "Python 3",
   "language": "python",
   "name": "python3"
  },
  "language_info": {
   "codemirror_mode": {
    "name": "ipython",
    "version": 3
   },
   "file_extension": ".py",
   "mimetype": "text/x-python",
   "name": "python",
   "nbconvert_exporter": "python",
   "pygments_lexer": "ipython3"
  }
 },
 "nbformat": 4,
 "nbformat_minor": 4
}
